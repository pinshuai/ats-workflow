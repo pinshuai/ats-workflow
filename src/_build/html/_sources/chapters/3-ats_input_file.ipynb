{
 "cells": [
  {
   "cell_type": "markdown",
   "id": "3059ae87-5f5c-409c-b216-167261f1dca1",
   "metadata": {},
   "source": [
    "# Write ATS input file"
   ]
  },
  {
   "cell_type": "markdown",
   "id": "ee695604-3f49-44a7-abcf-a5486382dd50",
   "metadata": {
    "papermill": {
     "duration": null,
     "end_time": null,
     "exception": null,
     "start_time": null,
     "status": "pending"
    },
    "tags": []
   },
   "source": [
    "We now generate three input files -- two for spinup (steadystate solution and cyclic steadystate solution) and one for transient runs.\n",
    "\n",
    "* Input files: ATS xml files\n",
    "  - `{WATERSHED_NAME}_spinup-steadystate.xml` the steady-state solution based on uniform application of mean rainfall rate\n",
    "  - `{WATERSHED_NAME}_spinup-cyclic_steadystate.xml` the cyclic steady state based on typical years\n",
    "  - `{WATERSHED_NAME}_transient.xml` the forward model"
   ]
  },
  {
   "cell_type": "code",
   "execution_count": 1,
   "id": "06330b40-3a79-46ee-9e9e-2e497062831e",
   "metadata": {
    "tags": []
   },
   "outputs": [],
   "source": [
    "%matplotlib inline\n",
    "%load_ext autoreload\n",
    "%autoreload 2\n",
    "import matplotlib as mpl\n",
    "mpl.rcParams['figure.dpi'] = 150"
   ]
  },
  {
   "cell_type": "code",
   "execution_count": 2,
   "id": "33fe8dfc-db29-4ad2-a579-307ef284f4cb",
   "metadata": {
    "tags": []
   },
   "outputs": [],
   "source": [
    "import os, yaml, pickle, datetime\n",
    "import pandas as pd\n",
    "\n",
    "import logging\n",
    "logging.basicConfig(level=logging.INFO, format='%(asctime)s - %(name)s - %(levelname)s: %(message)s')\n",
    "\n",
    "# ats_input_spec library, to be moved to amanzi_xml\n",
    "import ats_input_spec\n",
    "import ats_input_spec.public\n",
    "import ats_input_spec.io\n",
    "\n",
    "# amanzi_xml, included in AMANZI_SRC_DIR/tools/amanzi_xml\n",
    "import amanzi_xml.utils.io as aio\n",
    "import amanzi_xml.utils.search as asearch\n",
    "import amanzi_xml.utils.errors as aerrors"
   ]
  },
  {
   "cell_type": "code",
   "execution_count": 3,
   "id": "5063e94b-966c-4ff1-b14c-d6c1c8e9edec",
   "metadata": {
    "tags": []
   },
   "outputs": [],
   "source": [
    "import modvis\n",
    "from modvis import ats_xml"
   ]
  },
  {
   "cell_type": "code",
   "execution_count": 4,
   "id": "0ccaf4ce-aea4-4c76-8ada-dad467aac24d",
   "metadata": {
    "tags": []
   },
   "outputs": [],
   "source": [
    "name = 'CoalCreek' # name the domain, used in filenames, etc\n",
    "config_fname = '../../data/examples/CoalCreek/processed/config.yaml'"
   ]
  },
  {
   "cell_type": "markdown",
   "id": "e97c90b4-51ed-4f95-be22-2cf691f5c0b7",
   "metadata": {},
   "source": [
    "## load configuration"
   ]
  },
  {
   "cell_type": "code",
   "execution_count": 5,
   "id": "f3f29672-1958-4e86-a802-b782516b24bb",
   "metadata": {},
   "outputs": [],
   "source": [
    "# Load the dictionary from the file\n",
    "with open(config_fname, 'r') as file:\n",
    "    config = yaml.load(file, Loader=yaml.FullLoader)"
   ]
  },
  {
   "cell_type": "code",
   "execution_count": 6,
   "id": "b7f20bd3-022a-4054-b21b-9cfcd1988f76",
   "metadata": {
    "tags": []
   },
   "outputs": [],
   "source": [
    "config['spinup_steadystate_rundir'] = os.path.join('1-spinup_steadystate')\n",
    "config['spinup_cyclic_rundir'] = os.path.join('2-spinup_cyclic')\n",
    "config['transient_rundir'] = os.path.join('3-transient')\n",
    "\n",
    "config['spinup_steadystate_template'] = os.path.join('..', '..', 'model', 'inputs', 'spinup_steadystate-template.xml')\n",
    "config['spinup_cyclic_template'] = os.path.join('..', '..', 'model', 'inputs', 'spinup_cyclic-template.xml')\n",
    "config['transient_template'] = os.path.join('..', '..', 'model', 'inputs', 'transient-template.xml')\n",
    "\n",
    "config['watershed_specific_xml'] = os.path.join('..', '..', 'model', 'inputs', f'{name}_specific.xml')\n",
    "config['spinup_steadystate_xml'] = os.path.join('..', '..', 'model', 'inputs', f'{name}_spinup_steadystate.xml')\n",
    "config['spinup_cyclic_xml'] = os.path.join('..', '..', 'model', 'inputs', f'{name}_spinup_cyclic.xml')\n",
    "config['transient_xml'] = os.path.join('..', '..', 'model', 'inputs', f'{name}_transient.xml')\n",
    "\n",
    "config['latitude [deg]'] = 39 # latitude of watershed in degree, used to determine incident radiation"
   ]
  },
  {
   "cell_type": "code",
   "execution_count": 7,
   "id": "cef6df82-094c-44f8-876d-78f7c05b0f20",
   "metadata": {
    "tags": []
   },
   "outputs": [
    {
     "data": {
      "text/plain": [
       "{'LAI_filename': '../../data/examples/CoalCreek/processed/watershed_lai_raw.h5',\n",
       " 'LAI_typical_filename': '../../data/examples/CoalCreek/processed/watershed_lai_typical.h5',\n",
       " 'catchment_labels': ['140200010204'],\n",
       " 'daymet_filename': '../../data/examples/CoalCreek/processed/watershed_daymet_raw.h5',\n",
       " 'daymet_typical_filename': '../../data/examples/CoalCreek/processed/watershed_daymet_typical.h5',\n",
       " 'end_date': '2016-10-1',\n",
       " 'labeled_sets': {'140200010204': {'entity': 'CELL', 'setid': 10000}},\n",
       " 'latitude [deg]': 39,\n",
       " 'mean_precip [m s^-1]': 2.215898101534863e-08,\n",
       " 'mesh_filename': '../../data/examples/CoalCreek/processed/watershed_mesh.exo',\n",
       " 'nlcd_indices': [8, 9, 10],\n",
       " 'nlcd_labels': ['MODIS Woody Savannas', 'MODIS Savannas', 'MODIS Grasslands'],\n",
       " 'origin_date': '1980-1-1',\n",
       " 'side_sets': {'140200010204 boundary': {'setid': 10002},\n",
       "  '140200010204 outlet': {'setid': 10003},\n",
       "  '140200010204 surface': {'setid': 10001},\n",
       "  'MODIS Grasslands': {'setid': 10},\n",
       "  'MODIS Savannas': {'setid': 9},\n",
       "  'MODIS Woody Savannas': {'setid': 8},\n",
       "  'bottom': {'setid': 1},\n",
       "  'external_sides': {'setid': 3},\n",
       "  'surface': {'setid': 2},\n",
       "  'surface domain outlet': {'setid': 10004}},\n",
       " 'spinup_cyclic_rundir': '2-spinup_cyclic',\n",
       " 'spinup_cyclic_template': '../../model/inputs/spinup_cyclic-template.xml',\n",
       " 'spinup_cyclic_xml': '../../model/inputs/CoalCreek_spinup_cyclic.xml',\n",
       " 'spinup_steadystate_rundir': '1-spinup_steadystate',\n",
       " 'spinup_steadystate_template': '../../model/inputs/spinup_steadystate-template.xml',\n",
       " 'spinup_steadystate_xml': '../../model/inputs/CoalCreek_spinup_steadystate.xml',\n",
       " 'start_date': '2015-10-1',\n",
       " 'subsurface_properties_filename': '../../data/examples/CoalCreek/processed/watershed_subsurface_properties.csv',\n",
       " 'transient_rundir': '3-transient',\n",
       " 'transient_template': '../../model/inputs/transient-template.xml',\n",
       " 'transient_xml': '../../model/inputs/CoalCreek_transient.xml',\n",
       " 'watershed_specific_xml': '../../model/inputs/CoalCreek_specific.xml'}"
      ]
     },
     "execution_count": 7,
     "metadata": {},
     "output_type": "execute_result"
    }
   ],
   "source": [
    "config"
   ]
  },
  {
   "cell_type": "code",
   "execution_count": 8,
   "id": "a27ab071-360b-4f38-be30-67ea9b400257",
   "metadata": {
    "tags": []
   },
   "outputs": [],
   "source": [
    "# nlcd_indices = config['nlcd_indices']\n",
    "nlcd_labels = config['nlcd_labels']\n",
    "subcatchment_labels = config['catchment_labels']\n",
    "ls = config['labeled_sets']\n",
    "ss = config['side_sets']\n",
    "mean_precip = config['mean_precip [m s^-1]']\n",
    "start_date = config['start_date']\n",
    "end_date = config['end_date']"
   ]
  },
  {
   "cell_type": "code",
   "execution_count": 9,
   "id": "3295a0e4-ba17-4902-9f8e-ced30b94dbc5",
   "metadata": {
    "tags": []
   },
   "outputs": [],
   "source": [
    "# load subsurface properties\n",
    "subsurface_props = pd.read_csv(config['subsurface_properties_filename'], index_col='ats_id')"
   ]
  },
  {
   "cell_type": "markdown",
   "id": "633717c9-8b2f-44d9-857f-7d0cca9db4e2",
   "metadata": {},
   "source": [
    "## Generate watershed-specific properties"
   ]
  },
  {
   "cell_type": "markdown",
   "id": "880750c7-1531-4759-a39e-3a29e4636055",
   "metadata": {},
   "source": [
    "Create a dummy xml file with watershed specific content (e.g., meshes, domain, forcing, and land covers) that will replace sections within the template files."
   ]
  },
  {
   "cell_type": "code",
   "execution_count": 10,
   "id": "8b3464a8-f6ac-4398-b9b7-93b589485b0c",
   "metadata": {
    "papermill": {
     "duration": null,
     "end_time": null,
     "exception": null,
     "start_time": null,
     "status": "pending"
    },
    "tags": []
   },
   "outputs": [
    {
     "name": "stderr",
     "output_type": "stream",
     "text": [
      "/Users/shuai/github/ats_input_spec/ats_input_spec/io.py:43: UserWarning: Creating an incomplete XML object, missing entries!\n",
      "  warnings.warn('Creating an incomplete XML object, missing entries!')\n"
     ]
    }
   ],
   "source": [
    "# create the main list, this file is used for filling the template file\n",
    "main_list = ats_xml.get_main(config, subsurface_props, nlcd_labels,\n",
    "                             labeled_sets = ls, side_sets = ss,\n",
    "                             subcatchment_labels=subcatchment_labels,\n",
    "                            )\n",
    "main_xml = ats_input_spec.io.to_xml(main_list)\n",
    "\n",
    "# save generated xml \n",
    "ats_input_spec.io.write(main_list, config['watershed_specific_xml'])"
   ]
  },
  {
   "cell_type": "markdown",
   "id": "ec99e31b-a02d-4ea4-9493-d96d4c672a70",
   "metadata": {},
   "source": [
    "## Write input files\n",
    "\n",
    "Replace template files with generated watershed specific properties. This also sets the start and end date of the simulations, and creates directories for each run."
   ]
  },
  {
   "cell_type": "markdown",
   "id": "691a35d7-2f69-4c40-8c83-c5e1f726dea4",
   "metadata": {
    "papermill": {
     "duration": null,
     "end_time": null,
     "exception": null,
     "start_time": null,
     "status": "pending"
    },
    "tags": []
   },
   "source": [
    "- `{name}_spinup_steadystate.xml`: For the first file, we load a spinup template and write the needed quantities into that file, saving it to the appropriate run directory.  Note there is no DayMet or land cover or LAI properties needed for this run.  The only property that is needed is the domain-averaged, mean annual rainfall rate.  We then take off some for ET (note too wet spins up faster than too dry, so don't take off too much...).\n",
    "\n",
    "- `{name}_spinup_cyclic.xml`: For the second file, we load a transient run template.  This file needs the basics, plus DayMet and LAI as the \"typical year data\".  Also we set the run directory that will be used for the steadystate run.\n",
    "\n",
    "- `{name}_transient.xml`: For the third file, we load a transient run template as well.  This file needs the basics, DayMet with the actual data, and we choose for this run to use the MODIS typical year.  MODIS is only available for 2002 on, so if we didn't need 1980-2002 we could use the real data, but for this run we want a longer record."
   ]
  },
  {
   "cell_type": "code",
   "execution_count": 11,
   "id": "1a9f67c1-460c-4969-885f-5b7f0b62b909",
   "metadata": {
    "papermill": {
     "duration": null,
     "end_time": null,
     "exception": null,
     "start_time": null,
     "status": "pending"
    },
    "tags": []
   },
   "outputs": [
    {
     "name": "stderr",
     "output_type": "stream",
     "text": [
      "2023-07-21 10:50:07,362 - root - INFO: Writing spinup steadystate: ../../model/inputs/CoalCreek_spinup_steadystate.xml\n",
      "2023-07-21 10:50:07,368 - root - INFO: Writing spinup_cyclic xml: ../../model/inputs/CoalCreek_spinup_cyclic.xml\n",
      "2023-07-21 10:50:07,381 - root - INFO: Writing transient xml: ../../model/inputs/CoalCreek_transient.xml\n"
     ]
    }
   ],
   "source": [
    "# create a steady-state run\n",
    "ats_xml.write_spinup_steadystate(config, main_xml, mean_precip = mean_precip)\n",
    "\n",
    "# make sure the cyclic ends near Oct. 1\n",
    "ats_xml.write_transient(config, main_xml,             \n",
    "                start_date = start_date, end_date=end_date,cyclic_steadystate=True, \n",
    "               )\n",
    "\n",
    "# create the fully-heterogeneous runs\n",
    "ats_xml.write_transient(config, main_xml,                \n",
    "                 start_date = start_date, end_date=end_date,cyclic_steadystate=False, \n",
    "               )"
   ]
  },
  {
   "cell_type": "code",
   "execution_count": 12,
   "id": "a20a9cb7-53ab-4410-bca7-d71a923ee57b",
   "metadata": {},
   "outputs": [],
   "source": [
    "with open(config_fname, 'w') as f:\n",
    "    yaml.dump(config, f)"
   ]
  },
  {
   "cell_type": "code",
   "execution_count": null,
   "id": "94f30974-a723-4fb8-9e77-2478ae840011",
   "metadata": {},
   "outputs": [],
   "source": []
  }
 ],
 "metadata": {
  "kernelspec": {
   "display_name": "watershed_workflow-2023-04-03",
   "language": "python",
   "name": "watershed_workflow-2023-04-03"
  },
  "language_info": {
   "codemirror_mode": {
    "name": "ipython",
    "version": 3
   },
   "file_extension": ".py",
   "mimetype": "text/x-python",
   "name": "python",
   "nbconvert_exporter": "python",
   "pygments_lexer": "ipython3",
   "version": "3.10.6"
  },
  "widgets": {
   "application/vnd.jupyter.widget-state+json": {
    "state": {},
    "version_major": 2,
    "version_minor": 0
   }
  }
 },
 "nbformat": 4,
 "nbformat_minor": 5
}
